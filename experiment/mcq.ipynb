{
 "cells": [
  {
   "cell_type": "code",
   "execution_count": 13,
   "metadata": {},
   "outputs": [],
   "source": [
    "import os\n",
    "import json\n",
    "import pandas as pd\n",
    "import traceback"
   ]
  },
  {
   "cell_type": "code",
   "execution_count": 14,
   "metadata": {},
   "outputs": [],
   "source": [
    "from langchain.chat_models import ChatOpenAI"
   ]
  },
  {
   "cell_type": "code",
   "execution_count": 16,
   "metadata": {},
   "outputs": [
    {
     "data": {
      "text/plain": [
       "True"
      ]
     },
     "execution_count": 16,
     "metadata": {},
     "output_type": "execute_result"
    }
   ],
   "source": [
    "from dotenv import load_dotenv\n",
    "load_dotenv()"
   ]
  },
  {
   "cell_type": "code",
   "execution_count": 17,
   "metadata": {},
   "outputs": [],
   "source": [
    "KEY = os.getenv(\"OPENAI_API_KEY\")"
   ]
  },
  {
   "cell_type": "code",
   "execution_count": 19,
   "metadata": {},
   "outputs": [],
   "source": [
    "client = ChatOpenAI(openai_api_key = KEY, model = \"gpt-3.5-turbo\",temperature = 0.6)"
   ]
  },
  {
   "cell_type": "code",
   "execution_count": null,
   "metadata": {},
   "outputs": [],
   "source": [
    "from langchain.llms import OpenAI\n",
    "from langchain.prompts import PromptTemplate\n",
    "from langchain.chains import SequentialChain\n",
    "from langchain.chains import LLMChain\n",
    "from langchain.callbacks import get_openai_callback\n",
    "import PyPDF2"
   ]
  },
  {
   "cell_type": "code",
   "execution_count": null,
   "metadata": {},
   "outputs": [],
   "source": [
    "from langchain.document_loaders import PyPDFLoader"
   ]
  },
  {
   "cell_type": "code",
   "execution_count": null,
   "metadata": {},
   "outputs": [],
   "source": [
    "data = PyPDFLoader(\"./javase8.pdf\")"
   ]
  },
  {
   "cell_type": "code",
   "execution_count": null,
   "metadata": {},
   "outputs": [],
   "source": [
    "page = data.load_and_split()"
   ]
  },
  {
   "cell_type": "code",
   "execution_count": null,
   "metadata": {
    "scrolled": true
   },
   "outputs": [],
   "source": [
    "# 48-55\n",
    "req_data = page[47:55]"
   ]
  },
  {
   "cell_type": "code",
   "execution_count": null,
   "metadata": {},
   "outputs": [],
   "source": [
    "format = {\n",
    "   \"1\": {\n",
    "        \"mcq\": \"multiple choice question\",\n",
    "        \"options\": {\n",
    "            \"a\": \"choice here\",\n",
    "            \"b\": \"choice here\",\n",
    "            \"c\": \"choice here\",\n",
    "            \"d\": \"choice here\",\n",
    "        },\n",
    "        \"correct\": \"correct answer\",\n",
    "    },\n",
    "}"
   ]
  },
  {
   "cell_type": "code",
   "execution_count": null,
   "metadata": {},
   "outputs": [],
   "source": [
    "generate_template = \"\"\"\n",
    "using the below data generate me {number_of_questions} with a {level} difficulty level.\n",
    "{data} generate me output in the below format \n",
    "{format}\n",
    "\"\"\""
   ]
  },
  {
   "cell_type": "code",
   "execution_count": null,
   "metadata": {},
   "outputs": [
    {
     "data": {
      "text/plain": [
       "'\\nusing the below data generate me {number_of_questions} with a {level} difficulty level.\\n{data} generate me output in the below format \\n{format}\\n'"
      ]
     },
     "execution_count": 59,
     "metadata": {},
     "output_type": "execute_result"
    }
   ],
   "source": [
    "generate_template"
   ]
  },
  {
   "cell_type": "code",
   "execution_count": null,
   "metadata": {},
   "outputs": [],
   "source": [
    "generate_mcq = PromptTemplate(\n",
    "    input_variables=[\"data\",\"number_of_questions\",\"level\",\"format\"],\n",
    "    template= generate_template\n",
    ")"
   ]
  },
  {
   "cell_type": "code",
   "execution_count": null,
   "metadata": {},
   "outputs": [],
   "source": [
    "# generate_mcq = PromptTemplate.from_template(\"using the below data generate me {number_of_questions} with a {level} difficulty level.{data} generate me output in the below format {format}\")"
   ]
  },
  {
   "cell_type": "code",
   "execution_count": null,
   "metadata": {},
   "outputs": [],
   "source": [
    "generate_mcq_prompt = LLMChain(llm = client, prompt=generate_mcq, output_key=\"base_mcq\")"
   ]
  },
  {
   "cell_type": "code",
   "execution_count": null,
   "metadata": {},
   "outputs": [],
   "source": [
    "validate_template = \"\"\"\n",
    "validate these mcqs {base_mcq} are they correct. if there is any mistake modify them as required.\n",
    "\"\"\""
   ]
  },
  {
   "cell_type": "code",
   "execution_count": null,
   "metadata": {},
   "outputs": [],
   "source": [
    "validate_mcq = PromptTemplate(\n",
    "    input_variables=[\"base_mcq\"],\n",
    "    template= validate_template\n",
    ")"
   ]
  },
  {
   "cell_type": "code",
   "execution_count": null,
   "metadata": {},
   "outputs": [],
   "source": [
    "validate_mcq_prompt = LLMChain(llm = client, prompt= validate_mcq, output_key=\"final_mcq\")"
   ]
  },
  {
   "cell_type": "code",
   "execution_count": null,
   "metadata": {},
   "outputs": [],
   "source": [
    "mcqs = SequentialChain(chains= [generate_mcq_prompt, validate_mcq_prompt],input_variables=[\"data\",\"number_of_questions\",\"level\",\"format\"],output_variables=[\"base_mcq\",\"final_mcq\"])"
   ]
  },
  {
   "cell_type": "code",
   "execution_count": null,
   "metadata": {},
   "outputs": [],
   "source": [
    "response = mcqs({\"data\" : req_data, \"number_of_questions\" : \"5\", \"level\" : \"Easy\" , \"format\" : format})"
   ]
  },
  {
   "cell_type": "code",
   "execution_count": null,
   "metadata": {},
   "outputs": [
    {
     "data": {
      "text/plain": [
       "{'data': [Document(page_content='56 CHAPTER 3: DECLARATIONS\\nOverloaded Constructors\\nLike methods, constructors can be overloaded. Since the constructors in a class all\\nhave the same name as the class, their si gnatures are differenti ated by their param-\\neter lists. In the following example, the class Light  now provides explicit imple-\\nmentation of the no-argument constructor at (1) and that of a non-zero argument\\nconstructor at (2). The constructors are overloaded, as is evident by their signa-\\ntures. The non-zero argument constructor at (2) is called when an object of the class\\nLight  is created at (3), and the no-argument constructor is likewise called at (4).\\nOverloading of constructors allows appropriate initialization of objects on\\ncreation, depending on the constructor invoked (see chaining of constructors in\\n§7.5, p. 282). It is recommended to use the @param  tag in a Javadoc comment to doc-\\nument the formal parameters of a constructor. \\nclass Light {\\n  // ...\\n  // No-argument constructor:\\n  Light() {                                                  // (1)\\n    noOfWatts = 50;\\n    indicator = true;\\n    location  = \"X\";\\n  }\\n  // Non-zero argument constructor:\\n  Light(int noOfWatts, boolean indicator, String location) { // (2)\\n    this.noOfWatts = noOfWatts;\\n    this.indicator = indicator;\\n    this.location  = location;\\n  }\\n  //...\\n}\\nclass Greenhouse {\\n  // ...\\n  Light moreLight  = new Light(100, true, \"Greenhouse\");     // (3) OK\\n  Light firstLight = new Light();                            // (4) OK\\n}\\nReview Questions\\n3.1 Which one of these declarations is a valid method declaration?\\nSelect the one correct answer.\\n(a)void method1         { /* ... */ }\\n(b)void method2()       { /* ... */ }\\n(c)void method3(void)   { /* ... */ }\\n(d)method4()            { /* ... */ }\\n(e)method5(void)        { /* ... */ }', metadata={'source': './javase8.pdf', 'page': 48}),\n",
       "  Document(page_content='3.3: CONSTRUCTORS 57\\n3.2 Which statements, when inserted at (1), will not result in compile-time errors?\\npublic class ThisUsage {\\n  int planets;\\n  static int suns;\\n  public void gaze() {\\n    int i;\\n    // (1) INSERT STATEMENT HERE\\n  }\\n}\\nSelect the three correct answers.\\n(a)i = this.planets;\\n(b)i = this.suns;\\n(c)this = new ThisUsage();\\n(d)this.i = 4;\\n(e)this.suns = planets;\\n3.3 Given the following pairs of method declarations, which statements are true?\\nvoid fly(int distance) {}\\nint  fly(int time, int speed) { return time*speed; }\\nvoid fall(int time) {}\\nint  fall(int distance) { return distance; }\\nvoid glide(int time) {}\\nvoid Glide(int time) {}\\nSelect the two correct answers.\\n(a) The first pair of methods will compile, and overload the method name fly.\\n(b) The second pair of methods will compile, and overload the method name\\nfall.\\n(c) The third pair of methods will compile, and overload the method name glide .\\n(d) The first pair of methods will not compile.\\n(e) The second pair of methods will not compile.\\n(f) The third pair of methods will not compile.\\n3.4 Given a class named Book, which one of these constructor declarations is valid for\\nthe class Book?\\nSelect the one correct answer.\\n(a)Book(Book b) {}\\n(b)Book Book() {}\\n(c)private final Book() {}\\n(d)void Book() {}\\n(e)public static void Book(String[] args) {}\\n(f)abstract Book() {}', metadata={'source': './javase8.pdf', 'page': 49}),\n",
       "  Document(page_content='58 CHAPTER 3: DECLARATIONS\\n3.5 Which statements are true?\\nSelect the two correct answers.\\n(a) A class must define a constructor.\\n(b) A constructor can be declared private .\\n(c) A constructor can return a value.\\n(d) A constructor must initialize all fields when a class is instantiated.\\n(e) A constructor can access the non-static members of a class.\\n3.6 What will be the result of compiling the following program?\\npublic class MyClass {\\n  long var;\\n  public void MyClass(long param) { var = param; }  // (1)\\n  public static void main(String[] args) {\\n    MyClass a, b;\\n    a = new MyClass();                              // (2)\\n    b = new MyClass(5);                             // (3)\\n  }\\n}\\nSelect the one correct answer.\\n(a) A compile-time error will occur at (1).\\n(b) A compile-time error will occur at (2).\\n(c) A compile-time error will occur at (3).\\n(d) The program will compile without errors.\\n3.4 Arrays\\nAn array  is a data structure that defines an indexed collection of a fixed number of\\nhomogeneous data elements. This means th at all elements in the array have the\\nsame data type. A position in the array is indicated by a non-negative integer value\\ncalled the index . An element at a given position in the array is accessed using the\\nindex. The size of an array is fixed and cannot be changed after the array has been\\ncreated.\\nIn Java, arrays are objects. Arrays can be of primitive data types or reference types.\\nIn the former case, all elements in the arra y are of a specific primitive data type. In\\nthe latter case, all elements are references of a specific reference type. References in\\nthe array can then denote objects of this reference type or its subtypes. Each array\\nobject has a public  final  field called length , which specifies the array size (i.e., the\\nnumber of elements the array can accomm odate). The first element is always at\\nindex 0 and the last element at index n – 1, where n is the value of the length  field\\nin the array.', metadata={'source': './javase8.pdf', 'page': 50}),\n",
       "  Document(page_content='3.4: ARRAYS 59\\nSimple arrays are one-dimensional arrays —that is, a simple list of values. Since\\narrays can store reference values, the obje cts referenced can also be array objects.\\nThus, multidimensional arrays are implemented as array of arrays .\\nPassing array references as parameters is discussed in §3.5, p. 72. Type conversions\\nfor array references on assignment and on method invocation are discussed in\\n§7.7, p. 309.\\nDeclaring Array Variables\\nA one-dimensional array variable declaration has either of the following syntaxes:\\nelement_type [] array_name ;\\nor \\nelement_type  array_name [];\\nwhere element_type  can be a primitive data type or a reference type. The array vari-\\nable array_name  has the type element_type []. Note that the array size is not speci-\\nfied. As a consequence, the array variable array_name  can be assigned the reference\\nvalue of an array of any length, as long as its elements have element_type.\\nIt is important to understand that the declaration does not actually create an array.\\nInstead, it simply declares a reference  that can refer to an array object. The [] nota-\\ntion can also be specified after a variable name to declare it as an array variable,\\nbut then it applies to just that variable.\\nint anIntArray[], oneInteger;\\nPizza[] mediumPizzas, largePizzas;\\nThese two declarations declare anIntArray  and mediumPizzas  to be reference variables\\nthat can refer to arrays of int values and arrays of Pizza  objects, respectively. The\\nvariable largePizzas  can denote an array of Pizza  objects, but the variable oneInteger\\ncannot denote an array of int values—it is a simple variable of the type int.\\nAn array variable that is declared as a field in a class, but is not explicitly initialized\\nto any array, will be initialized to the default reference value null. This default ini-\\ntialization does not apply to local reference variables and, therefore, does not apply\\nto local array variables either (§2.4, p. 42). This behavior should not be confused\\nwith initialization of the elements of an array during array construction.\\nConstructing an Array\\nAn array can be constructed for a fixed number of elements of a specific type, using\\nthe new operator. The reference value of the resulting array can be assigned to an\\narray variable of the correspo nding type. The syntax of the array creation expression\\nis shown on the right-hand side of the following assignment statement:\\narray_name  = new element_type [array_size ];', metadata={'source': './javase8.pdf', 'page': 51}),\n",
       "  Document(page_content='60 CHAPTER 3: DECLARATIONS\\nThe minimum value of array_size  is 0; in other words zero-length arrays can be con-\\nstructed in Java. If the array size is negative, a NegativeArraySizeException  is thrown\\nat runtime.\\nGiven the declarations\\nint anIntArray[], oneInteger;\\nPizza[] mediumPizzas, largePizzas;\\nthe three arrays in the declaratio ns can be constructed as follows:\\nanIntArray   = new int[10];          // array for 10 integers\\nmediumPizzas = new Pizza[5];         // array of 5 pizzas\\nlargePizzas  = new Pizza[3];         // array of 3 pizzas\\nThe array declaration and construction can be combined.\\nelement_type1[] array_name  = new element_type2[array_size ];\\nIn the preceding syntax, the array type element_type2[] must be assignable  to the\\narray type element_type1[] (§7.7, p. 309). When the array is constructed, all of its ele-\\nments are initialized to the default value for element_type2. This is true for both\\nmember and local arrays when they are constructed.\\nIn the next examples, the code constructs the array, and the array elements are\\nimplicitly initialized to their default valu es. For example, all elements of the array\\nanIntArray  get the value 0, and all elements of the array mediumPizzas  get the value\\nnull when the arrays are constructed.\\nint[] anIntArray = new int[10];                  // Default element value: 0\\nPizza[] mediumPizzas = new Pizza[5];             // Default element value: null\\nThe value of the field length  in each array is set to the number of elements specified\\nduring the construction of the array; for example, mediumPizzas.length  has the\\nvalue 5.\\nOnce an array has been constructed, its elements can also be explicitly initialized\\nindividually—for example, in a loop. The examples in the rest of this section make\\nuse of a loop to traverse the elemen ts of an array for various purposes.\\nInitializing an Array\\nJava provides the means of declaring, constructing, and explicitly initializing an\\narray in one declaration statement:\\nelement_type [] array_name  = { array_initialize_list  };\\nThis form of initialization applies to fields as well as to local arrays. The\\narray_initialize_list  is a comma-separated list of zero or more expressions. Such an\\narray initializer results in the constr uction and initialization of the array.\\nint[] anIntArray = {13, 49, 267, 15, 215};\\nIn this declaration statement, the variable anIntArray  is declared as a reference to\\nan array of ints. The array initializer results in the construction of an array to hold', metadata={'source': './javase8.pdf', 'page': 52}),\n",
       "  Document(page_content='3.4: ARRAYS 61\\nfive elements (equal to the length of the list of expressions in the block), where the\\nfirst element is initialized to th e value of the first expression ( 13), the second ele-\\nment to the value of the second expression ( 49), and so on.\\nPizza[] pizzaOrder = { new Pizza(), new Pizza(), null };\\nIn this declaration statement, the variable pizzaOrder  is declared as a reference to an\\narray of Pizza  objects. The array initializer constructs an array to hold three ele-\\nments. The initialization code sets the firs t two elements of the array to refer to two\\nPizza  objects, while the last element is initialized to the null reference. The refer-\\nence value of the array of Pizza  objects is assigned to the reference pizzaOrder . Note\\nalso that this declaration statement actually creates three  objects: the array object\\nwith three references and the two Pizza  objects.\\nThe expressions in the array_initialize_list  are evaluated from left to right, and the\\narray name obviously cannot occur in any of the expressions in the list. In the pre-\\nceding examples, the array_initialize_list  is terminated by the right brace, }, of the\\nblock. The list can also be legally terminated by a comma. The following array has\\nlength 2, and not 3:\\nTopping[] pizzaToppings = { new Topping(\"cheese\"), new Topping(\"tomato\"), };\\nThe declaration statement at (1) in the following code defines an array of four\\nString  objects, while the declaration statement at (2) shows that a String  object is\\nnot the same as an array of char.\\n// Array with 4 String objects:\\nString[] pets = {\"crocodiles\", \"elephants\", \"crocophants\", \"elediles\"}; // (1)\\n// Array of 3 characters:\\nchar[] charArray = {\\'a\\', \\'h\\', \\'a\\'};    // (2) Not the same as \"aha\"\\nUsing an Array\\nThe array object is referenced by the arra y name, but individual array elements are\\naccessed by specifying an index with the [] operator. The array element access\\nexpression has the following syntax:\\narray_name [index_expression ]\\nEach individual element is treated as a simple variable of the element type. The\\nindex  is specified by the index_expression , whose value should be promotable to an\\nint value; otherwise, a compile-time error is flagged. Since the lower bound of an\\narray index is always 0, the upper bound is 1 less than the array size—that is,\\narray_name .length-1 . The ith element in the array has index (i-1) . At runtime, the\\nindex value is automatically checked to ensu re that it is within the array index\\nbounds. If the index value is less than 0, or greater than or equal to\\narray_name .length , an ArrayIndexOutOfBoundsException  is thrown. A program can\\neither check the index explicitly or catch the runtime exception (§6.5, p. 230), but\\nan illegal index is typically an indication of a programming error.', metadata={'source': './javase8.pdf', 'page': 53}),\n",
       "  Document(page_content='62 CHAPTER 3: DECLARATIONS\\nIn the array element access expression, the array_name  can be any expression that\\nreturns a reference to an array. For example, the expression on the right-hand side\\nof the following assignment statement returns the character \\'H\\' at index 1 in the\\ncharacter array returned by a call to the toCharArray()  method of the String  class:\\nchar letter = \"AHA\".toCharArray()[1];     // \\'H\\'\\nThe array operator [] is used to declare array types ( Topping[] ), specify the array\\nsize (new Topping[3] ), and access array elements ( toppings[1] ). This operator is not\\nused when the array reference is manipulate d, such as in an array reference assign-\\nment (§7.9, p. 312), or when the array reference is passed as an actual parameter in\\na method call (§3.5, p. 77).\\nExample 3.3 shows traversal of arrays using for loops (§6.3, p. 215 and p. 217). A\\nfor(;;)  loop at (3) in the main()  method initializes the local array trialArray\\ndeclared at (2) five times with pseudo-random numbers (from 0.0 to 100.0 ), by call-\\ning the method randomize()  declared at (5). The minimum value in the array is\\nfound by calling the method findMinimum()  declared at (6), and is stored in the array\\nstoreMinimum  declared at (1). Both of these methods also use a for(;;)  loop. The loop\\nvariable is initialized to a start value— 0 in (3) and (5), and 1 in (6). The loop condi-\\ntion tests whether the loop variable is less than the length of the array; this guar-\\nantees that the loop will terminate when the last element has been accessed. The\\nloop variable is incremented after each iteration to access the next element.\\nA for(:)  loop at (4) in the main()  method is used to print the minimum values from\\nthe trials, as elements are read consecutively from the array, without keeping track\\nof an index value. \\nExample 3.3 Using Arrays\\npublic class Trials {\\n  public static void main(String[] args) {\\n    // Declare and construct the local arrays:\\n    double[] storeMinimum = new double[5];               // (1)\\n    double[] trialArray = new double[15];                // (2)\\n    for (int i = 0; i < storeMinimum.length; ++i) {      // (3)\\n      // Initialize the array.\\n      randomize(trialArray);\\n      // Find and store the minimum value.\\n      storeMinimum[i] = findMinimum(trialArray);\\n    }\\n    // Print the minimum values:                            (4)\\n    for (double minValue : storeMinimum)\\n      System.out.printf(\"%.4f%n\", minValue);\\n  }\\n  public static void randomize(double[] valArray) {      // (5)\\n    for (int i = 0; i < valArray.length; ++i)\\n      valArray[i] = Math.random() * 100.0;\\n  }', metadata={'source': './javase8.pdf', 'page': 54}),\n",
       "  Document(page_content='3.4: ARRAYS 63\\n  public static double findMinimum(double[] valArray) {  // (6)\\n    // Assume the array has at least one element.\\n    double minValue = valArray[0];\\n    for (int i = 1; i < valArray.length; ++i)\\n      minValue = Math.min(minValue, valArray[i]);\\n    return minValue;\\n  }\\n}\\nProbable output from the program:\\n6.9330\\n2.7819\\n6.7427\\n18.0849\\n26.2462\\nAnonymous Arrays\\nAs shown earlier in this section, the following declaration statement can be used\\nto construct arrays using an array creation expression:\\nelement_type1[] array_name  = new element_type2[array_size ];   // (1)\\nint[] intArray = new int[5];\\nThe size of the array is specified in the array creation expression, which creates the\\narray and initializes the array elements to their default values. By comparison, the fol-\\nlowing declaration statement both create s the array and initializes the array ele-\\nments to specific values given in the array initializer:\\nelement_type [] array_name  = { array_initialize_list  };           // (2)\\nint[] intArray = {3, 5, 2, 8, 6};\\nHowever, the array initializer is not an expression. Java has another array creation\\nexpression, called an anonymous array , which allows the concept of the array cre-\\nation expression from (1) to be combined with the array initializer from (2), so as\\nto create and initialize an array object: \\nnew element_type [] { array_initialize_list  }\\nnew int[] {3, 5, 2, 8, 6}\\nThis construct has enough information to create a nameless array of a specific type.\\nNeither the name of the array nor the size of the array is specified. The construct\\nreturns the reference value of the newly crea ted array, which can be assigned to ref-\\nerences and passed as argument in method calls. In particular, the following dec-\\nlaration statements are equivalent:\\nint[] intArray = {3, 5, 2, 8, 6};                               // (1)\\nint[] intArray = new int[] {3, 5, 2, 8, 6};                     // (2)', metadata={'source': './javase8.pdf', 'page': 55})],\n",
       " 'number_of_questions': '5',\n",
       " 'level': 'Easy',\n",
       " 'format': {'1': {'mcq': 'multiple choice question',\n",
       "   'options': {'a': 'choice here',\n",
       "    'b': 'choice here',\n",
       "    'c': 'choice here',\n",
       "    'd': 'choice here'},\n",
       "   'correct': 'correct answer'}},\n",
       " 'base_mcq': \"{'1': {'mcq': 'Which one of these declarations is a valid method declaration?',\\n  'options': {'a': 'void method1 { /* ... */ }',\\n   'b': 'void method2() { /* ... */ }',\\n   'c': 'void method3(void) { /* ... */ }',\\n   'd': 'method4() { /* ... */ }',\\n   'e': 'method5(void) { /* ... */ }'},\\n  'correct': 'b'},\\n '2': {'mcq': 'Which statements, when inserted at (1), will not result in compile-time errors?',\\n  'options': {'a': 'i = this.planets;',\\n   'b': 'i = this.suns;',\\n   'c': 'this = new ThisUsage();',\\n   'd': 'this.i = 4;',\\n   'e': 'this.suns = planets;'},\\n  'correct': 'a, b'},\\n '3': {'mcq': 'Given the following pairs of method declarations, which statements are true?',\\n  'options': {'a': 'The first pair of methods will compile, and overload the method name fly.',\\n   'b': 'The second pair of methods will compile, and overload the method name fall.',\\n   'c': 'The third pair of methods will compile, and overload the method name glide.',\\n   'd': 'The first pair of methods will not compile.',\\n   'e': 'The second pair of methods will not compile.',\\n   'f': 'The third pair of methods will not compile.'},\\n  'correct': 'a, b'},\\n '4': {'mcq': 'Given a class named Book, which one of these constructor declarations is valid for the class Book?',\\n  'options': {'a': 'Book(Book b) {}',\\n   'b': 'Book Book() {}',\\n   'c': 'private final Book() {}',\\n   'd': 'void Book() {}',\\n   'e': 'public static void Book(String[] args) {}',\\n   'f': 'abstract Book() {}'},\\n  'correct': 'c'},\\n '5': {'mcq': 'Which statements are true?',\\n  'options': {'a': 'A class must define a constructor.',\\n   'b': 'A constructor can be declared private.',\\n   'c': 'A constructor can return a value.',\\n   'd': 'A constructor must initialize all fields when a class is instantiated.',\\n   'e': 'A constructor can access the non-static members of a class.'},\\n  'correct': 'b, e'}}\",\n",
       " 'final_mcq': '1. Which one of these declarations is a valid method declaration?\\na. void method1 { /* ... */ }\\nb. void method2() { /* ... */ }\\nc. void method3(void) { /* ... */ }\\nd. method4() { /* ... */ }\\ne. method5(void) { /* ... */ }\\nCorrect answer: b\\n\\n2. Which statements, when inserted at (1), will not result in compile-time errors?\\na. i = this.planets;\\nb. i = this.suns;\\nc. this = new ThisUsage();\\nd. this.i = 4;\\ne. this.suns = planets;\\nCorrect answer: a, b\\n\\n3. Given the following pairs of method declarations, which statements are true?\\na. The first pair of methods will compile, and overload the method name fly.\\nb. The second pair of methods will compile, and overload the method name fall.\\nc. The third pair of methods will compile, and overload the method name glide.\\nd. The first pair of methods will not compile.\\ne. The second pair of methods will not compile.\\nf. The third pair of methods will not compile.\\nCorrect answer: a, b\\n\\n4. Given a class named Book, which one of these constructor declarations is valid for the class Book?\\na. Book(Book b) {}\\nb. Book Book() {}\\nc. private final Book() {}\\nd. void Book() {}\\ne. public static void Book(String[] args) {}\\nf. abstract Book() {}\\nCorrect answer: c\\n\\n5. Which statements are true?\\na. A class must define a constructor.\\nb. A constructor can be declared private.\\nc. A constructor can return a value.\\nd. A constructor must initialize all fields when a class is instantiated.\\ne. A constructor can access the non-static members of a class.\\nCorrect answer: b, e\\n\\nThese modifications have been made based on the correct Java syntax and rules.'}"
      ]
     },
     "execution_count": 78,
     "metadata": {},
     "output_type": "execute_result"
    }
   ],
   "source": [
    "response"
   ]
  },
  {
   "cell_type": "code",
   "execution_count": null,
   "metadata": {},
   "outputs": [
    {
     "name": "stdout",
     "output_type": "stream",
     "text": [
      "1. Which one of these declarations is a valid method declaration?\n",
      "a. void method1 { /* ... */ }\n",
      "b. void method2() { /* ... */ }\n",
      "c. void method3(void) { /* ... */ }\n",
      "d. method4() { /* ... */ }\n",
      "e. method5(void) { /* ... */ }\n",
      "Correct answer: b\n",
      "\n",
      "2. Which statements, when inserted at (1), will not result in compile-time errors?\n",
      "a. i = this.planets;\n",
      "b. i = this.suns;\n",
      "c. this = new ThisUsage();\n",
      "d. this.i = 4;\n",
      "e. this.suns = planets;\n",
      "Correct answer: a, b\n",
      "\n",
      "3. Given the following pairs of method declarations, which statements are true?\n",
      "a. The first pair of methods will compile, and overload the method name fly.\n",
      "b. The second pair of methods will compile, and overload the method name fall.\n",
      "c. The third pair of methods will compile, and overload the method name glide.\n",
      "d. The first pair of methods will not compile.\n",
      "e. The second pair of methods will not compile.\n",
      "f. The third pair of methods will not compile.\n",
      "Correct answer: a, b\n",
      "\n",
      "4. Given a class named Book, which one of these constructor declarations is valid for the class Book?\n",
      "a. Book(Book b) {}\n",
      "b. Book Book() {}\n",
      "c. private final Book() {}\n",
      "d. void Book() {}\n",
      "e. public static void Book(String[] args) {}\n",
      "f. abstract Book() {}\n",
      "Correct answer: c\n",
      "\n",
      "5. Which statements are true?\n",
      "a. A class must define a constructor.\n",
      "b. A constructor can be declared private.\n",
      "c. A constructor can return a value.\n",
      "d. A constructor must initialize all fields when a class is instantiated.\n",
      "e. A constructor can access the non-static members of a class.\n",
      "Correct answer: b, e\n",
      "\n",
      "These modifications have been made based on the correct Java syntax and rules.\n"
     ]
    }
   ],
   "source": [
    "print(response[\"final_mcq\"])"
   ]
  },
  {
   "cell_type": "code",
   "execution_count": null,
   "metadata": {},
   "outputs": [],
   "source": []
  }
 ],
 "metadata": {
  "kernelspec": {
   "display_name": "Python 3 (ipykernel)",
   "language": "python",
   "name": "python3"
  },
  "language_info": {
   "codemirror_mode": {
    "name": "ipython",
    "version": 3
   },
   "file_extension": ".py",
   "mimetype": "text/x-python",
   "name": "python",
   "nbconvert_exporter": "python",
   "pygments_lexer": "ipython3",
   "version": "3.12.1"
  }
 },
 "nbformat": 4,
 "nbformat_minor": 4
}
